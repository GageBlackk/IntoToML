{
  "nbformat": 4,
  "nbformat_minor": 0,
  "metadata": {
    "colab": {
      "provenance": []
    },
    "kernelspec": {
      "name": "python3",
      "display_name": "Python 3"
    },
    "language_info": {
      "name": "python"
    }
  },
  "cells": [
    {
      "cell_type": "code",
      "execution_count": null,
      "metadata": {
        "colab": {
          "base_uri": "https://localhost:8080/"
        },
        "id": "HEdfZ80SoPDX",
        "outputId": "61310825-5fef-4df8-cbc7-3c28db513514"
      },
      "outputs": [
        {
          "output_type": "stream",
          "name": "stdout",
          "text": [
            "Mounted at /content/drive\n"
          ]
        }
      ],
      "source": [
        "import numpy as np\n",
        "import warnings\n",
        "warnings.filterwarnings('ignore')\n",
        "import matplotlib.pyplot as plt\n",
        "import pandas as pd\n",
        "\n",
        "import torch\n",
        "import torch.nn as nn\n",
        "import torch.optim as optim\n",
        "torch.set_printoptions(edgeitems=2, linewidth=75)\n",
        "\n",
        "from sklearn.model_selection import train_test_split\n",
        "from sklearn.preprocessing import StandardScaler\n",
        "from sklearn.preprocessing import MinMaxScaler\n",
        "\n",
        "from google.colab import drive\n",
        "drive.mount('/content/drive')"
      ]
    },
    {
      "cell_type": "code",
      "source": [
        "file_path = '/content/drive/My Drive/Datasets/Housing.csv'\n",
        "dataset = pd.DataFrame(pd.read_csv(file_path))"
      ],
      "metadata": {
        "id": "Id8VmQ8_omtd"
      },
      "execution_count": null,
      "outputs": []
    },
    {
      "cell_type": "code",
      "source": [
        "# Defining the map function\n",
        "def binary_map(x):\n",
        "    return x.map({'yes': 1, 'no': 0})"
      ],
      "metadata": {
        "id": "z8HwvB8Jozmw"
      },
      "execution_count": null,
      "outputs": []
    },
    {
      "cell_type": "code",
      "source": [
        "binary_vars =  ['mainroad', 'guestroom', 'basement', 'hotwaterheating', 'airconditioning', 'prefarea']\n",
        "num_vars = ['area', 'bedrooms', 'bathrooms', 'stories', 'parking', 'price']"
      ],
      "metadata": {
        "id": "VwxH5nKto78P"
      },
      "execution_count": null,
      "outputs": []
    },
    {
      "cell_type": "code",
      "source": [
        "dataset[binary_vars] = dataset[binary_vars].apply(binary_map)\n",
        "# Preprocessing\n",
        "\n",
        "\n",
        "components_to_use = ['area', 'bedrooms','bathrooms','stories','mainroad','guestroom','basement','hotwaterheating','airconditioning', 'parking', 'prefarea']\n",
        "X = torch.tensor(dataset[components_to_use].values.copy(), dtype=torch.float32)\n",
        "\n",
        "scaler = MinMaxScaler()\n",
        "dataset[num_vars] = scaler.fit_transform(dataset[num_vars])\n",
        "X_n = torch.tensor(dataset[components_to_use].values.copy(), dtype=torch.float32)\n",
        "\n",
        "Y = torch.tensor(dataset.pop('price').values, dtype=torch.float32)"
      ],
      "metadata": {
        "id": "d3oTSM4IpAVr"
      },
      "execution_count": null,
      "outputs": []
    },
    {
      "cell_type": "code",
      "source": [
        "n_samples = X.shape[0]\n",
        "n_val = int(0.2 * n_samples)\n",
        "\n",
        "shuffled_indices = torch.randperm(n_samples)\n",
        "\n",
        "train_indices = shuffled_indices[:-n_val]\n",
        "val_indices = shuffled_indices[-n_val:]\n",
        "\n",
        "Xtrain = X[train_indices]\n",
        "Ytrain = Y[train_indices]\n",
        "\n",
        "Xtest = X[val_indices]\n",
        "Ytest = Y[val_indices]\n",
        "\n",
        "Xn_train = X_n[train_indices]\n",
        "Xn_test = X_n[val_indices]"
      ],
      "metadata": {
        "id": "BSnOqmAEpJUW"
      },
      "execution_count": null,
      "outputs": []
    },
    {
      "cell_type": "code",
      "source": [
        "\n",
        "def training_loop(nEpochs, optimizer, model, loss_fn, Xtrain, Xtest, Ytrain, Ytest):\n",
        "  plotted_loss = np.zeros(nEpochs)\n",
        "  for epoch in range(1, nEpochs + 1):\n",
        "    Ypred_train = model(Xtrain)\n",
        "    train_loss = loss_fn(Ypred_train, Ytrain)\n",
        "\n",
        "    with torch.no_grad(): # <1>\n",
        "      Ypred_test = model(Xtest)\n",
        "      test_loss = loss_fn(Ypred_test, Ytest)\n",
        "      plotted_loss[epoch - 1] = test_loss\n",
        "      assert test_loss.requires_grad == False # <2>\n",
        "\n",
        "    optimizer.zero_grad()\n",
        "    train_loss.backward()\n",
        "    optimizer.step()\n",
        "    if ((epoch == 1) or (epoch % 1000 == 0)):\n",
        "      print(f\"Epoch {epoch}, Training loss {train_loss.item():.4f}, Validation loss {test_loss.item():.4f}\")\n",
        "\n",
        "  return plotted_loss"
      ],
      "metadata": {
        "id": "RKdVIzRmpssZ"
      },
      "execution_count": null,
      "outputs": []
    },
    {
      "cell_type": "code",
      "source": [
        "\n",
        "linear_model = nn.Linear(X.shape[1], 1)\n",
        "\n",
        "seq_model_1 = nn.Sequential(\n",
        "  nn.Linear(X.shape[1], 32),\n",
        "  nn.Tanh(),\n",
        "  nn.Linear(32, 1)\n",
        ")\n",
        "\n",
        "seq_model_2 = nn.Sequential(\n",
        "  nn.Linear(X.shape[1], 32),\n",
        "  nn.Tanh(),\n",
        "  nn.Linear(32, 64),\n",
        "  nn.Tanh(),\n",
        "  nn.Linear(64, 16),\n",
        "  nn.Tanh(),\n",
        "  nn.Linear(16, 1)\n",
        ")"
      ],
      "metadata": {
        "id": "KP9O_lORp7ux"
      },
      "execution_count": null,
      "outputs": []
    },
    {
      "cell_type": "code",
      "source": [
        "linear_optimizer = optim.SGD(linear_model.parameters(), lr=1e-3)\n",
        "seq_optimizer_1 = optim.SGD(seq_model_1.parameters(), lr=1e-3)\n",
        "seq_optimizer_2 = optim.SGD(seq_model_2.parameters(), lr=1e-3)\n",
        "\n",
        "epochs = 10000"
      ],
      "metadata": {
        "id": "R3J7xP8KqrFp"
      },
      "execution_count": null,
      "outputs": []
    },
    {
      "cell_type": "code",
      "source": [
        "###Linear regression model\n",
        "lin_reg = training_loop(\n",
        "    nEpochs = epochs,\n",
        "    optimizer = linear_optimizer,\n",
        "    model = linear_model,\n",
        "    loss_fn = nn.MSELoss(),\n",
        "    Xtrain = Xn_train, # <1>\n",
        "    Xtest = Xn_test, # <1>\n",
        "    Ytrain = Ytrain,\n",
        "    Ytest = Ytest)"
      ],
      "metadata": {
        "colab": {
          "base_uri": "https://localhost:8080/"
        },
        "id": "B_o1DP0grIRf",
        "outputId": "c5cf3b9e-377d-454e-a953-ed61ec96d89f"
      },
      "execution_count": null,
      "outputs": [
        {
          "output_type": "stream",
          "name": "stdout",
          "text": [
            "Epoch 1, Training loss 0.1328, Validation loss 0.1585\n",
            "Epoch 1000, Training loss 0.0508, Validation loss 0.0551\n",
            "Epoch 2000, Training loss 0.0409, Validation loss 0.0452\n",
            "Epoch 3000, Training loss 0.0356, Validation loss 0.0398\n",
            "Epoch 4000, Training loss 0.0326, Validation loss 0.0367\n",
            "Epoch 5000, Training loss 0.0307, Validation loss 0.0348\n",
            "Epoch 6000, Training loss 0.0295, Validation loss 0.0334\n",
            "Epoch 7000, Training loss 0.0286, Validation loss 0.0325\n",
            "Epoch 8000, Training loss 0.0280, Validation loss 0.0317\n",
            "Epoch 9000, Training loss 0.0276, Validation loss 0.0312\n",
            "Epoch 10000, Training loss 0.0273, Validation loss 0.0308\n"
          ]
        }
      ]
    },
    {
      "cell_type": "code",
      "source": [
        "##Single Sequence Model\n",
        "\n",
        "single_seq = training_loop(\n",
        "    nEpochs = epochs,\n",
        "    optimizer = seq_optimizer_1,\n",
        "    model = seq_model_1,\n",
        "    loss_fn = nn.MSELoss(),\n",
        "    Xtrain = Xn_train, # <1>\n",
        "    Xtest = Xn_test, # <1>\n",
        "    Ytrain = Ytrain,\n",
        "    Ytest = Ytest)"
      ],
      "metadata": {
        "colab": {
          "base_uri": "https://localhost:8080/"
        },
        "id": "reBC5bnQrYJP",
        "outputId": "3fd6120c-5b85-4aa9-c540-6fca8b8d06a4"
      },
      "execution_count": null,
      "outputs": [
        {
          "output_type": "stream",
          "name": "stdout",
          "text": [
            "Epoch 1, Training loss 0.0585, Validation loss 0.0637\n",
            "Epoch 1000, Training loss 0.0326, Validation loss 0.0361\n",
            "Epoch 2000, Training loss 0.0293, Validation loss 0.0324\n",
            "Epoch 3000, Training loss 0.0277, Validation loss 0.0306\n",
            "Epoch 4000, Training loss 0.0269, Validation loss 0.0297\n",
            "Epoch 5000, Training loss 0.0264, Validation loss 0.0292\n",
            "Epoch 6000, Training loss 0.0261, Validation loss 0.0290\n",
            "Epoch 7000, Training loss 0.0260, Validation loss 0.0288\n",
            "Epoch 8000, Training loss 0.0259, Validation loss 0.0287\n",
            "Epoch 9000, Training loss 0.0258, Validation loss 0.0287\n",
            "Epoch 10000, Training loss 0.0258, Validation loss 0.0286\n"
          ]
        }
      ]
    },
    {
      "cell_type": "code",
      "source": [
        "##Multiple seqence training loop\n",
        "multi_seq = training_loop(\n",
        "    nEpochs = epochs,\n",
        "    optimizer = seq_optimizer_2,\n",
        "    model = seq_model_2,\n",
        "    loss_fn = nn.MSELoss(),\n",
        "    Xtrain = Xn_train, # <1>\n",
        "    Xtest = Xn_test, # <1>\n",
        "    Ytrain = Ytrain,\n",
        "    Ytest = Ytest)\n"
      ],
      "metadata": {
        "colab": {
          "base_uri": "https://localhost:8080/"
        },
        "id": "h1CYUxvOvlzT",
        "outputId": "6cf6ca66-6d29-4234-d665-1561bc5e64b1"
      },
      "execution_count": null,
      "outputs": [
        {
          "output_type": "stream",
          "name": "stdout",
          "text": [
            "Epoch 1, Training loss 0.0412, Validation loss 0.0486\n",
            "Epoch 1000, Training loss 0.0259, Validation loss 0.0289\n",
            "Epoch 2000, Training loss 0.0258, Validation loss 0.0288\n",
            "Epoch 3000, Training loss 0.0258, Validation loss 0.0288\n",
            "Epoch 4000, Training loss 0.0258, Validation loss 0.0288\n",
            "Epoch 5000, Training loss 0.0258, Validation loss 0.0287\n",
            "Epoch 6000, Training loss 0.0257, Validation loss 0.0287\n",
            "Epoch 7000, Training loss 0.0257, Validation loss 0.0287\n",
            "Epoch 8000, Training loss 0.0257, Validation loss 0.0287\n",
            "Epoch 9000, Training loss 0.0257, Validation loss 0.0286\n",
            "Epoch 10000, Training loss 0.0257, Validation loss 0.0286\n"
          ]
        }
      ]
    },
    {
      "cell_type": "code",
      "source": [
        "##time to plot the losses of epochs\n",
        "plt.plot(range(epochs), lin_reg, label='linear regression')\n",
        "plt.plot(range(epochs), single_seq, label='single-layer sequential')\n",
        "plt.plot(range(epochs), multi_seq, label='muli-layer sequential')\n",
        "\n",
        "#Labeling graph\n",
        "plt.xlabel('Epochs')\n",
        "plt.ylabel('Loss')\n",
        "plt.title('Comparison Three Networks')\n",
        "\n",
        "# Adding legend\n",
        "plt.legend()\n",
        "\n",
        "# Show the plot\n",
        "plt.show()\n",
        "\n"
      ],
      "metadata": {
        "colab": {
          "base_uri": "https://localhost:8080/",
          "height": 472
        },
        "id": "B0dUTRAJv87S",
        "outputId": "806fff8c-9b45-4e39-d903-0046fbd36a53"
      },
      "execution_count": null,
      "outputs": [
        {
          "output_type": "display_data",
          "data": {
            "text/plain": [
              "<Figure size 640x480 with 1 Axes>"
            ],
            "image/png": "[encoded data removed]"
          },
          "metadata": {}
        }
      ]
    }
  ]
}